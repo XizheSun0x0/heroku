{
 "cells": [
  {
   "cell_type": "code",
   "execution_count": 1,
   "id": "91df7497",
   "metadata": {},
   "outputs": [],
   "source": [
    "import joblib"
   ]
  },
  {
   "cell_type": "code",
   "execution_count": 2,
   "id": "87351b4e",
   "metadata": {},
   "outputs": [],
   "source": [
    "model=joblib.load(\"chocolateTaste\")"
   ]
  },
  {
   "cell_type": "code",
   "execution_count": 3,
   "id": "12d3071c",
   "metadata": {},
   "outputs": [
    {
     "name": "stdout",
     "output_type": "stream",
     "text": [
      "[1]\n"
     ]
    }
   ],
   "source": [
    "print(model.predict([[0.8,0.8]]))"
   ]
  },
  {
   "cell_type": "code",
   "execution_count": null,
   "id": "200bfe6f",
   "metadata": {},
   "outputs": [],
   "source": []
  }
 ],
 "metadata": {
  "kernelspec": {
   "display_name": "Python 3",
   "language": "python",
   "name": "python3"
  },
  "language_info": {
   "codemirror_mode": {
    "name": "ipython",
    "version": 3
   },
   "file_extension": ".py",
   "mimetype": "text/x-python",
   "name": "python",
   "nbconvert_exporter": "python",
   "pygments_lexer": "ipython3",
   "version": "3.8.8"
  }
 },
 "nbformat": 4,
 "nbformat_minor": 5
}

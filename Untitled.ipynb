{
 "cells": [
  {
   "cell_type": "code",
   "execution_count": 1,
   "id": "5835f3a7",
   "metadata": {},
   "outputs": [],
   "source": [
    "import pandas"
   ]
  },
  {
   "cell_type": "code",
   "execution_count": 2,
   "id": "50ddd441",
   "metadata": {},
   "outputs": [],
   "source": [
    "d=pandas.read_csv(\"ChocolateTaste.csv\")"
   ]
  },
  {
   "cell_type": "code",
   "execution_count": 3,
   "id": "5469797e",
   "metadata": {},
   "outputs": [
    {
     "name": "stdout",
     "output_type": "stream",
     "text": [
      "   ID  Sugar  Milk  Taste\n",
      "0   1    0.2   0.9      1\n",
      "1   2    0.1   0.1      0\n",
      "2   3    0.2   0.4      0\n",
      "3   4    0.2   0.5      0\n",
      "4   5    0.4   0.5      1\n",
      "5   6    0.4   0.8      1\n",
      "6   7    0.6   0.7      1\n"
     ]
    }
   ],
   "source": [
    "print(d)"
   ]
  },
  {
   "cell_type": "code",
   "execution_count": 5,
   "id": "e401da0f",
   "metadata": {},
   "outputs": [],
   "source": [
    "X=d.loc[:,[\"Sugar\",\"Milk\"]]"
   ]
  },
  {
   "cell_type": "code",
   "execution_count": 6,
   "id": "f39b9d5b",
   "metadata": {},
   "outputs": [],
   "source": [
    "Y=d.loc[:,[\"Taste\"]]"
   ]
  },
  {
   "cell_type": "code",
   "execution_count": 7,
   "id": "11d372f3",
   "metadata": {},
   "outputs": [],
   "source": [
    "from sklearn.neural_network import MLPClassifier"
   ]
  },
  {
   "cell_type": "code",
   "execution_count": 9,
   "id": "f909fd3c",
   "metadata": {},
   "outputs": [],
   "source": [
    "model=MLPClassifier(solver=\"lbfgs\",hidden_layer_sizes=(6,2))"
   ]
  },
  {
   "cell_type": "code",
   "execution_count": 10,
   "id": "4a6c982f",
   "metadata": {},
   "outputs": [
    {
     "name": "stderr",
     "output_type": "stream",
     "text": [
      "D:\\software\\Anaconda\\lib\\site-packages\\sklearn\\utils\\validation.py:63: DataConversionWarning: A column-vector y was passed when a 1d array was expected. Please change the shape of y to (n_samples, ), for example using ravel().\n",
      "  return f(*args, **kwargs)\n"
     ]
    },
    {
     "data": {
      "text/plain": [
       "MLPClassifier(hidden_layer_sizes=(6, 2), solver='lbfgs')"
      ]
     },
     "execution_count": 10,
     "metadata": {},
     "output_type": "execute_result"
    }
   ],
   "source": [
    "model.fit(X,Y)"
   ]
  },
  {
   "cell_type": "code",
   "execution_count": 11,
   "id": "233420db",
   "metadata": {},
   "outputs": [],
   "source": [
    "pred=model.predict(X)"
   ]
  },
  {
   "cell_type": "code",
   "execution_count": 14,
   "id": "fcbae1ff",
   "metadata": {},
   "outputs": [
    {
     "name": "stdout",
     "output_type": "stream",
     "text": [
      "[1 0 0 0 1 1 1]\n"
     ]
    }
   ],
   "source": [
    "print(pred)"
   ]
  },
  {
   "cell_type": "code",
   "execution_count": 15,
   "id": "e4ec5f73",
   "metadata": {},
   "outputs": [],
   "source": [
    "from sklearn.metrics import confusion_matrix"
   ]
  },
  {
   "cell_type": "code",
   "execution_count": 17,
   "id": "7bd161f5",
   "metadata": {},
   "outputs": [],
   "source": [
    "cm=confusion_matrix(Y,pred)"
   ]
  },
  {
   "cell_type": "code",
   "execution_count": 18,
   "id": "9aaf4ecf",
   "metadata": {},
   "outputs": [
    {
     "name": "stdout",
     "output_type": "stream",
     "text": [
      "[[3 0]\n",
      " [0 4]]\n"
     ]
    }
   ],
   "source": [
    "print(cm)"
   ]
  },
  {
   "cell_type": "code",
   "execution_count": 20,
   "id": "71985f2f",
   "metadata": {},
   "outputs": [],
   "source": [
    "import joblib"
   ]
  },
  {
   "cell_type": "code",
   "execution_count": 21,
   "id": "e0951880",
   "metadata": {},
   "outputs": [
    {
     "data": {
      "text/plain": [
       "['chocolateTaste']"
      ]
     },
     "execution_count": 21,
     "metadata": {},
     "output_type": "execute_result"
    }
   ],
   "source": [
    "joblib.dump(model,\"chocolateTaste\")"
   ]
  },
  {
   "cell_type": "code",
   "execution_count": null,
   "id": "fea6e7d7",
   "metadata": {},
   "outputs": [],
   "source": []
  }
 ],
 "metadata": {
  "kernelspec": {
   "display_name": "Python 3",
   "language": "python",
   "name": "python3"
  },
  "language_info": {
   "codemirror_mode": {
    "name": "ipython",
    "version": 3
   },
   "file_extension": ".py",
   "mimetype": "text/x-python",
   "name": "python",
   "nbconvert_exporter": "python",
   "pygments_lexer": "ipython3",
   "version": "3.8.8"
  }
 },
 "nbformat": 4,
 "nbformat_minor": 5
}
